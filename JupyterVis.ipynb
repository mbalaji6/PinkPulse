{
 "cells": [
  {
   "cell_type": "code",
   "execution_count": null,
   "metadata": {},
   "outputs": [],
   "source": [
    "#DataScience\n",
    "import numpy as np\n",
    "from datascience import *\n",
    "import matplotlib\n",
    "import matplotlib.pyplot as plt\n",
    "plt.style.use ('fivethirtyeight')\n",
    "import warnings\n",
    "warnings.simplefilter ('ignore', FutureWarning)\n",
    "import pandas as pd\n",
    "from Object import Key"
   ]
  },
  {
   "cell_type": "code",
   "execution_count": null,
   "metadata": {},
   "outputs": [],
   "source": [
    "#ProjectNeeds\n",
    "from census import Census\n",
    "from us import states\n",
    "from forms import County, county_fips, national_finder_acs1dp, state_finder_acs1dp, national_finder_acs1, state_finder_acs1\n",
    "\n"
   ]
  },
  {
   "cell_type": "code",
   "execution_count": null,
   "metadata": {},
   "outputs": [],
   "source": [
    "poverty_perc_variables = {\n",
    "    \"DP03_0129PE\" : \"# of People below Poverty Line (Under 18 Years)\",\n",
    "    \"DP03_0128PE\" : \"# of People below Poverty Line\",\n",
    "    \"DP03_0133PE\" : \"# of People below Poverty Line (18-64), \"\n",
    "}\n",
    "#poverty_raw_variables = {\n",
    "#    \"DP03_0129E\" : \"# of People below Poverty Line (Under 18 Years)\",\n",
    " #   \"DP03_0128E\" : \"# of People below Poverty Line\",\n",
    "#    \"DP03_0133E\" : \"# of People below Poverty Line (18-64)\"\n",
    "\n",
    "income_perc_variables = {\n",
    "    \"DP03_0052PE\" : \"Total Households < $10K\",\n",
    "    \"DP03_0053PE\" : \"Total Households $10K - $15K\",\n",
    "    \"DP03_0054PE\" : \"Total Households $15K - $25K\",\n",
    "    \"DP03_0055PE\" : \"Total Households $25K - $35K\",\n",
    "    \"DP03_0056PE\" : \"Total Households $35K - $50K\",\n",
    "    \"DP03_0057PE\" : \"Total Households $50K - $75K\",\n",
    "    \"DP03_0058PE\" : \"Total Households $75K - $100K\",\n",
    "    \"DP03_0072PE\" : \"Total Households - Cash Assisted\",\n",
    "    \"DP03_0073E\" : \"Total Households - Cash Assisted; Mean Cash Public Assistance Income\",\n",
    "    \"DP03_0074PE\" : \"Total Households - Food Stamps/SNAP Benefits\"}\n",
    "    #\"DP03_0094PE\" : \"Median Year-Round Earnings, Female Workers\",\n",
    "    #\"DP04_0126PE\" : \"Gross Rent\" \n",
    "income_raw_variables = {\n",
    "    \"DP03_0052E\" : \"Total Households < $10K\",\n",
    "    \"DP03_0053E\" : \"Total Households $10K - $15K\",\n",
    "    \"DP03_0054E\" : \"Total Households $15K - $25K\",\n",
    "    \"DP03_0055E\" : \"Total Households $25K - $35K\",\n",
    "    \"DP03_0056E\" : \"Total Households $35K - $50K\",\n",
    "    \"DP03_0057E\" : \"Total Households $50K - $75K\",\n",
    "    \"DP03_0058E\" : \"Total Households $75K - $100K\",\n",
    "    \"DP03_0072E\" : \"Total Households - Cash Assisted\",\n",
    "    \"DP03_0073E\" : \"Total Households - Cash Assisted; Mean Cash Public Assistance Income\",\n",
    "    \"DP03_0074E\" : \"Total Households - Food Stamps/SNAP Benefits\",\n",
    "    \"DP03_0094E\" : \"Median Year-Round Earnings, Female Workers\"}\n",
    "    #\"DP04_0126E\" : \"Gross Rent\"\n",
    "\n",
    "age_sex_perc_variables = {\n",
    "    \"DP05_0003PE\" : \"Total Female Population\",\n",
    "    \"DP05_0027PE\" : \"Total Female Population (18 and over)\",\n",
    "    \"DP05_0031PE\" : \"Total Female Population (65 and over)\"\n",
    "}\n",
    "\n",
    "age_sex_raw_variables = {\n",
    "    \"DP05_0003E\" : \"Total Female Population\",\n",
    "    \"DP05_0027E\" : \"Total Female Population (18 and over)\",\n",
    "    \"DP05_0031E\" : \"Total Female Population (65 and over)\"\n",
    "}"
   ]
  },
  {
   "cell_type": "code",
   "execution_count": null,
   "metadata": {},
   "outputs": [],
   "source": [
    "our_census_1 = Census(Key.API)"
   ]
  },
  {
   "cell_type": "code",
   "execution_count": null,
   "metadata": {},
   "outputs": [],
   "source": [
    "our_census_1.acs1.get(('NAME', \"B17001_017E\"), geo={'for': 'county:*',\n",
    "                       'in': 'state:{}'.format(states.CA.fips)})"
   ]
  },
  {
   "cell_type": "code",
   "execution_count": null,
   "metadata": {},
   "outputs": [],
   "source": [
    "#POVERTY VARIABLES\n",
    "poverty_percent_estimates = our_census_1.acs1dp.get(('NAME', \"DP03_0129PE\", \"DP03_0128PE\", \"DP03_0133PE\"), geo={'for': 'county:*',\n",
    "                       'in': 'state:{}'.format(states.CA.fips)})\n",
    "poverty_percent_stats = {}\n",
    "for i in poverty_percent_estimates:\n",
    "    my_dict = i\n",
    "    poverty_percent_stats[my_dict[\"county\"]] = [\n",
    "        [poverty_perc_variables['DP03_0128PE'], my_dict['DP03_0128PE']],\n",
    "        [poverty_perc_variables['DP03_0129PE'], my_dict['DP03_0129PE']],\n",
    "        [poverty_perc_variables['DP03_0133PE'], my_dict['DP03_0133PE']],\n",
    "    ]\n",
    "poverty_percent_stats\n",
    "\n"
   ]
  },
  {
   "cell_type": "code",
   "execution_count": null,
   "metadata": {},
   "outputs": [],
   "source": [
    "#PRACTICING MAKING THE TABLE, USING PERCENT OF PEOPLE UNDER POVERTY LINE\n",
    "county_codes = county_fips.keys()\n",
    "county_names = county_fips.values()\n",
    "practices = []\n",
    "for i in county_codes:\n",
    "    practice = poverty_percent_stats[i][0][1]\n",
    "    practices = np.append(practices, practice)\n",
    "practice_table = Table().with_column(\"County Code\", county_codes).with_column (\"County Name\",\n",
    "                county_names).with_column(\"% Below Poverty Line\", practices)\n",
    "practice_table\n",
    "    "
   ]
  },
  {
   "cell_type": "code",
   "execution_count": null,
   "metadata": {},
   "outputs": [],
   "source": [
    "c = County (\"Los Angeles County, California\")"
   ]
  },
  {
   "cell_type": "code",
   "execution_count": null,
   "metadata": {},
   "outputs": [],
   "source": [
    "c.racial_statistics_women_county()"
   ]
  },
  {
   "cell_type": "code",
   "execution_count": null,
   "metadata": {},
   "outputs": [],
   "source": [
    "c.racial_statistics_women_county()"
   ]
  },
  {
   "cell_type": "code",
   "execution_count": null,
   "metadata": {},
   "outputs": [],
   "source": [
    "m = County (\"Alameda County, California\")"
   ]
  },
  {
   "cell_type": "code",
   "execution_count": null,
   "metadata": {},
   "outputs": [],
   "source": [
    "County.racialStatisticsNational"
   ]
  }
 ],
 "metadata": {
  "kernelspec": {
   "display_name": "Python 3",
   "language": "python",
   "name": "python3"
  },
  "language_info": {
   "codemirror_mode": {
    "name": "ipython",
    "version": 3
   },
   "file_extension": ".py",
   "mimetype": "text/x-python",
   "name": "python",
   "nbconvert_exporter": "python",
   "pygments_lexer": "ipython3",
   "version": "3.9.13"
  },
  "orig_nbformat": 4,
  "vscode": {
   "interpreter": {
    "hash": "aee8b7b246df8f9039afb4144a1f6fd8d2ca17a180786b69acc140d282b71a49"
   }
  }
 },
 "nbformat": 4,
 "nbformat_minor": 2
}
