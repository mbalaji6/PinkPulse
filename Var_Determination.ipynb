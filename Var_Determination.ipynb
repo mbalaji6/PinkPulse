{
 "cells": [
  {
   "cell_type": "code",
   "execution_count": null,
   "metadata": {},
   "outputs": [],
   "source": [
    "import numpy as np\n",
    "from datascience import *\n",
    "import warnings\n",
    "warnings.simplefilter ('ignore', FutureWarning)\n",
    "import pandas as pd\n",
    "from Object import Key"
   ]
  },
  {
   "cell_type": "code",
   "execution_count": null,
   "metadata": {},
   "outputs": [],
   "source": [
    "from census import Census\n",
    "from us import states"
   ]
  },
  {
   "cell_type": "code",
   "execution_count": null,
   "metadata": {},
   "outputs": [],
   "source": [
    "poverty_perc_variables = {\n",
    "    \"DP03_0129PE\" : \"# of People below Poverty Line (Under 18 Years)\",\n",
    "    \"DP03_0128PE\" : \"# of People below Poverty Line\",\n",
    "    \"DP03_0133PE\" : \"# of People below Poverty Line (18-64), \"\n",
    "}\n",
    "#poverty_raw_variables = {\n",
    "#    \"DP03_0129E\" : \"# of People below Poverty Line (Under 18 Years)\",\n",
    " #   \"DP03_0128E\" : \"# of People below Poverty Line\",\n",
    "#    \"DP03_0133E\" : \"# of People below Poverty Line (18-64)\"\n",
    "\n",
    "income_perc_variables = {\n",
    "    \"DP03_0052PE\" : \"Total Households < $10K\",\n",
    "    \"DP03_0053PE\" : \"Total Households $10K - $15K\",\n",
    "    \"DP03_0054PE\" : \"Total Households $15K - $25K\",\n",
    "    \"DP03_0055PE\" : \"Total Households $25K - $35K\",\n",
    "    \"DP03_0056PE\" : \"Total Households $35K - $50K\",\n",
    "    \"DP03_0057PE\" : \"Total Households $50K - $75K\",\n",
    "    \"DP03_0058PE\" : \"Total Households $75K - $100K\",\n",
    "    \"DP03_0072PE\" : \"Total Households - Cash Assisted\",\n",
    "    \"DP03_0073E\" : \"Total Households - Cash Assisted; Mean Cash Public Assistance Income\",\n",
    "    \"DP03_0074PE\" : \"Total Households - Food Stamps/SNAP Benefits\"}\n",
    "    #\"DP03_0094PE\" : \"Median Year-Round Earnings, Female Workers\",\n",
    "    #\"DP04_0126PE\" : \"Gross Rent\" \n",
    "income_raw_variables = {\n",
    "    \"DP03_0052E\" : \"Total Households < $10K\",\n",
    "    \"DP03_0053E\" : \"Total Households $10K - $15K\",\n",
    "    \"DP03_0054E\" : \"Total Households $15K - $25K\",\n",
    "    \"DP03_0055E\" : \"Total Households $25K - $35K\",\n",
    "    \"DP03_0056E\" : \"Total Households $35K - $50K\",\n",
    "    \"DP03_0057E\" : \"Total Households $50K - $75K\",\n",
    "    \"DP03_0058E\" : \"Total Households $75K - $100K\",\n",
    "    \"DP03_0072E\" : \"Total Households - Cash Assisted\",\n",
    "    \"DP03_0073E\" : \"Total Households - Cash Assisted; Mean Cash Public Assistance Income\",\n",
    "    \"DP03_0074E\" : \"Total Households - Food Stamps/SNAP Benefits\",\n",
    "    \"DP03_0094E\" : \"Median Year-Round Earnings, Female Workers\"}\n",
    "    #\"DP04_0126E\" : \"Gross Rent\"\n",
    "\n",
    "age_sex_perc_variables = {\n",
    "    \"DP05_0003PE\" : \"Total Female Population\",\n",
    "    \"DP05_0027PE\" : \"Total Female Population (18 and over)\",\n",
    "    \"DP05_0031PE\" : \"Total Female Population (65 and over)\"\n",
    "}\n",
    "\n",
    "age_sex_raw_variables = {\n",
    "    \"DP05_0003E\" : \"Total Female Population\",\n",
    "    \"DP05_0027E\" : \"Total Female Population (18 and over)\",\n",
    "    \"DP05_0031E\" : \"Total Female Population (65 and over)\"\n",
    "}"
   ]
  },
  {
   "cell_type": "code",
   "execution_count": null,
   "metadata": {},
   "outputs": [],
   "source": [
    "our_census_2 = Census(Key.API)"
   ]
  },
  {
   "cell_type": "code",
   "execution_count": null,
   "metadata": {},
   "outputs": [],
   "source": [
    "our_census_2.acs1dp.get((\"DP03_0052E\"), geo={'for': 'county: *',\n",
    "                       'in': 'state: *'})"
   ]
  },
  {
   "cell_type": "code",
   "execution_count": null,
   "metadata": {},
   "outputs": [],
   "source": [
    "missing = {}\n",
    "for i in income_raw_variables.keys():\n",
    "    code = i\n",
    "    label = income_raw_variables[i]\n",
    "    tracker = 0\n",
    "    x = our_census_2.acs1dp.get((i), geo={'for': 'county: *', 'in' :'state:{}'.format(states.CA.fips)})\n",
    "    for l in x: \n",
    "        my_dict = l\n",
    "        if l[i] < 0:\n",
    "            tracker += 1\n",
    "    if tracker >= 5: \n",
    "        missing[\"{}, ({})\".format(code,label)] = \"False\"\n",
    "    else:\n",
    "        missing[\"{}, ({})\".format(code,label)] = \"True\"\n",
    "\n",
    "missing         "
   ]
  },
  {
   "cell_type": "code",
   "execution_count": null,
   "metadata": {},
   "outputs": [],
   "source": [
    "missing = {}\n",
    "for i in income_perc_variables.keys():\n",
    "    code = i\n",
    "    label = income_perc_variables[i]\n",
    "    tracker = 0\n",
    "    x = our_census_2.acs1dp.get((i), geo={'for': 'county: *', 'in' :'state:{}'.format(states.CA.fips)})\n",
    "    for l in x: \n",
    "        my_dict = l\n",
    "        if l[i] < 0:\n",
    "            tracker += 1\n",
    "    if tracker >= 5: \n",
    "        missing[\"{}, ({})\".format(code,label)] = \"False\"\n",
    "    else:\n",
    "        missing[\"{}, ({})\".format(code,label)] = \"True\"\n",
    "\n",
    "missing"
   ]
  },
  {
   "cell_type": "code",
   "execution_count": null,
   "metadata": {},
   "outputs": [],
   "source": [
    "missing = {}\n",
    "for i in poverty_perc_variables.keys():\n",
    "    code = i\n",
    "    label = poverty_perc_variables[i]\n",
    "    tracker = 0\n",
    "    x = our_census_2.acs1dp.get((i), geo={'for': 'county: *', 'in' :'state:{}'.format(states.CA.fips)})\n",
    "    for l in x: \n",
    "        my_dict = l\n",
    "        if l[i] < 0:\n",
    "            tracker += 1\n",
    "    if tracker >= 5: \n",
    "        missing[\"{}, ({})\".format(code,label)] = \"False\"\n",
    "    else:\n",
    "        missing[\"{}, ({})\".format(code,label)] = \"True\"\n",
    "\n",
    "missing  "
   ]
  },
  {
   "cell_type": "code",
   "execution_count": null,
   "metadata": {},
   "outputs": [],
   "source": [
    "missing = {}\n",
    "for i in age_sex_perc_variables.keys():\n",
    "    code = i\n",
    "    label = age_sex_perc_variables[i]\n",
    "    tracker = 0\n",
    "    x = our_census_2.acs1dp.get((i), geo={'for': 'county: *', 'in' :'state:{}'.format(states.CA.fips)})\n",
    "    for l in x: \n",
    "        my_dict = l\n",
    "        if l[i] < 0:\n",
    "            tracker += 1\n",
    "    if tracker >= 5: \n",
    "        missing[\"{}, ({})\".format(code,label)] = \"False\"\n",
    "    else:\n",
    "        missing[\"{}, ({})\".format(code,label)] = \"True\"\n",
    "\n",
    "missing "
   ]
  },
  {
   "cell_type": "code",
   "execution_count": null,
   "metadata": {},
   "outputs": [],
   "source": [
    "missing = {}\n",
    "for i in age_sex_raw_variables.keys():\n",
    "    code = i\n",
    "    label = age_sex_raw_variables[i]\n",
    "    tracker = 0\n",
    "    x = our_census_2.acs1dp.get((i), geo={'for': 'county: *', 'in' :'state:{}'.format(states.CA.fips)})\n",
    "    for l in x: \n",
    "        my_dict = l\n",
    "        if l[i] < 0:\n",
    "            tracker += 1\n",
    "    if tracker >= 5: \n",
    "        missing[\"{}, ({})\".format(code,label)] = \"False\"\n",
    "    else:\n",
    "        missing[\"{}, ({})\".format(code,label)] = \"True\"\n",
    "\n",
    "missing"
   ]
  }
 ],
 "metadata": {
  "kernelspec": {
   "display_name": "Python 3",
   "language": "python",
   "name": "python3"
  },
  "language_info": {
   "codemirror_mode": {
    "name": "ipython",
    "version": 3
   },
   "file_extension": ".py",
   "mimetype": "text/x-python",
   "name": "python",
   "nbconvert_exporter": "python",
   "pygments_lexer": "ipython3",
   "version": "3.9.13 (v3.9.13:6de2ca5339, May 17 2022, 11:37:23) \n[Clang 13.0.0 (clang-1300.0.29.30)]"
  },
  "orig_nbformat": 4,
  "vscode": {
   "interpreter": {
    "hash": "aee8b7b246df8f9039afb4144a1f6fd8d2ca17a180786b69acc140d282b71a49"
   }
  }
 },
 "nbformat": 4,
 "nbformat_minor": 2
}
